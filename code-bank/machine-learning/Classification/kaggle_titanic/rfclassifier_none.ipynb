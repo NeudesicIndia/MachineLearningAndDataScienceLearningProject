
# Import Pandas library for data handling
import pandas as pd
# Create the dataframes from the CSV files
train_df = pd.read_csv('train.csv')
test_df = pd.read_csv('test.csv')

# O/P to see how the Data Frame looks
train_df
test_df
# Check the number of Rows and Columns in the dataframes
train_df.shape
test_df.shape
# Return the first ten elements in the dataframe
train_df.head(10)
test_df.head(10)

# Return the data in the 10th row of the train data set
train_df.iloc[10]
# Returns the Pclass and Ticket data from the 10th ROW
train_df.iloc[10][['Pclass','Ticket']]

 # Filters all the data from train_df which have Pclass=3
train_df[train_df['Pclass']==3]

# Performing scalar operations on entire value set
train_df['Fare'] = train_df['Fare']*1000
# Will update train_df with Fare*1000 for all rows

# List all columns
train_df.columns

# Return descriptive statistics for all the columns
train_df.describe()

# Handling missing values
# Delete rows that do not have a particular value
dropped_df = train_df.drop(train_df['Age'].isnull())
# Impute or update the values with a numerical value (FOR CATEGORICAL DATA: REPLACE WITH MODE, FOR NUMERICAL VALUE: REPLACE WITH MEDIAN)
train_df['Age'].fillna(train_df['Age'].median(),inplace=True)
test_df['Age'].fillna(test_df['Age'].median(),inplace=True)
test_df['Fare'].fillna(test_df['Fare'].median(),inplace=True)
# Categorical data needs to be mapped or encoded
mapping = {'male':1,'female':2}
# Update the Sex column with mapped values on original train_df
train_df.replace({'Sex':mapping}, inplace=True)
test_df.replace({'Sex':mapping}, inplace=True)

# Dropping categorical columns
train_df.drop(['PassengerId','Name','Ticket','Cabin','Embarked'],axis=1,inplace=True)
test_df.drop(['PassengerId','Name','Ticket','Cabin','Embarked'],axis=1,inplace=True)

# Drop the result column from the train set in order to split it into Result set and Evaluation variables
# General notation: X is the Evaluation set and Y is the Result set
X_df = train_df.drop('Survived', axis=1)
Y_df = train_df['Survived']
# To see the dataframes after drop and split
X_df.columns
Y_df

# Importing the RandomForest Classifier
from sklearn.ensemble import RandomForestClassifier as rf
# Constructing the RFClassifier
rfclassify = rf()

# Fit the model to dataset using Train data
rfclassify.fit(X_df,Y_df)

# Predict possible output on the Test data
pred = rfclassify.predict(test_df)

# Creating an output CSV
sub = pd.DataFrame(pred, columns=['Survived'])
sub.to_csv('out.csv', index=False)